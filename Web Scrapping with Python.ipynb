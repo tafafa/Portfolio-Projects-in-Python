{
 "cells": [
  {
   "cell_type": "code",
   "execution_count": 20,
   "id": "1ddc2019-4958-4d57-bfc0-260a2fd430f5",
   "metadata": {},
   "outputs": [],
   "source": [
    "# import libraries \n",
    "\n",
    "from bs4 import BeautifulSoup\n",
    "import requests\n",
    "import time\n",
    "import datetime\n",
    "\n",
    "import smtplib"
   ]
  },
  {
   "cell_type": "code",
   "execution_count": 21,
   "id": "6dcd2972-1f28-4e76-9f9b-6bc0c5142d58",
   "metadata": {},
   "outputs": [
    {
     "name": "stdout",
     "output_type": "stream",
     "text": [
      "\n",
      "                   Gawfolk 27\" Curved Monitor – 100Hz Computer Pc Full HD (1080p),Gaming 1800R Radius, Built-In Speakers, HDMI\n",
      "                  \n",
      "\n",
      "                    Now $117.89\n",
      "                   \n"
     ]
    }
   ],
   "source": [
    "# Connect to Website and pull in data\n",
    "\n",
    "url = \"https://www.walmart.com/ip/Gawfolk-27-Curved-Monitor-100Hz-Computer-Pc-Full-HD-1080p-Gaming-1800R-Radius-Built-In-Speakers-HDMI/5707374222?classType=VARIANT&adsRedirect=true\"\n",
    "\n",
    "headers = {\n",
    "    \"Accept\": \"text/html,application/xhtml+xml,application/xml;q=0.9,*/*;q=0.8\", \n",
    "    \"Accept-Encoding\": \"gzip, deflate, br\", \n",
    "    \"Accept-Language\": \"en-GB,en;q=0.9\",   \n",
    "    \"User-Agent\": \"Mozilla/5.0 (Macintosh; Intel Mac OS X 12_7_6) AppleWebKit/605.1.15 (KHTML, like Gecko) Version/17.6 Safari/605.1.15\" \n",
    "  }\n",
    "\n",
    "page = requests.get(url, headers = headers)\n",
    "\n",
    "soup1 = BeautifulSoup(page.content, 'html.parser')\n",
    "\n",
    "soup2 = BeautifulSoup(soup1.prettify(), \"html.parser\")\n",
    "\n",
    "title = soup2.find(id = 'main-title').get_text()\n",
    "\n",
    "price = soup2.find( \"span\", {\"itemprop\": \"price\" , \"data-seo-id\": \"hero-price\"}).get_text()\n",
    "\n",
    "print(title)\n",
    "print(price)"
   ]
  },
  {
   "cell_type": "code",
   "execution_count": 22,
   "id": "cd0749ac-c6bb-4c4a-8abe-e40839921feb",
   "metadata": {},
   "outputs": [
    {
     "name": "stdout",
     "output_type": "stream",
     "text": [
      "Gawfolk 27\" Curved Monitor – 100Hz Computer Pc Full HD (1080p),Gaming 1800R Radius, Built-In Speakers, HDMI\n",
      "117.89\n"
     ]
    }
   ],
   "source": [
    "# Clean up the data\n",
    "\n",
    "title = title.strip()\n",
    "price = price.strip()[5:]\n",
    "\n",
    "print(title)\n",
    "print(price)"
   ]
  },
  {
   "cell_type": "code",
   "execution_count": 23,
   "id": "28c4c490-0197-4c99-9815-483b7cfdc7e6",
   "metadata": {},
   "outputs": [
    {
     "name": "stdout",
     "output_type": "stream",
     "text": [
      "2025-05-19\n"
     ]
    }
   ],
   "source": [
    "# Create a Timestamp for your output to track when data was collected\n",
    "\n",
    "import datetime\n",
    "\n",
    "today = datetime.date.today()\n",
    "\n",
    "print(today)"
   ]
  },
  {
   "cell_type": "code",
   "execution_count": 24,
   "id": "a4b5da73-19f5-4345-be73-3c6546140329",
   "metadata": {},
   "outputs": [],
   "source": [
    "# Create CSV and write headers and data into the file\n",
    "\n",
    "import csv\n",
    "\n",
    "header = ['title', 'price', 'Date']\n",
    "data = [title, price, today]\n",
    "\n",
    "with open('CodeAlphaTask1.csv', 'w', newline='', encoding='UTF8') as f:\n",
    "    writer = csv.writer(f)\n",
    "    writer.writerow(header)\n",
    "    writer.writerow(data) \n",
    "    "
   ]
  },
  {
   "cell_type": "code",
   "execution_count": 25,
   "id": "bf315db8-7fbd-4e94-bf4b-0872f0bcc1a2",
   "metadata": {},
   "outputs": [
    {
     "name": "stdout",
     "output_type": "stream",
     "text": [
      "                                               title   price        Date\n",
      "0  Gawfolk 27\" Curved Monitor – 100Hz Computer Pc...  117.89  2025-05-19\n"
     ]
    }
   ],
   "source": [
    "import pandas as pd\n",
    "\n",
    "df = pd.read_csv(r'/Users/mac/CodeAlphaTask1.csv')\n",
    "\n",
    "print(df)"
   ]
  },
  {
   "cell_type": "code",
   "execution_count": 26,
   "id": "4bd40362-e196-494d-a035-bdb37373db33",
   "metadata": {},
   "outputs": [],
   "source": [
    "# Now we are appending data to the csv\n",
    "\n",
    "with open('CodeAlphaTask1.csv', 'a+', newline='', encoding='UTF8') as f:\n",
    "    writer = csv.writer(f)\n",
    "    writer.writerow(data)"
   ]
  },
  {
   "cell_type": "code",
   "execution_count": 30,
   "id": "0b57011a-6425-4880-8fc4-d0b973a16fb5",
   "metadata": {},
   "outputs": [],
   "source": [
    "#Combine all of the above code into one function\n",
    "\n",
    "def check_price():\n",
    "    url = \"https://www.walmart.com/ip/Gawfolk-27-Curved-Monitor-100Hz-Computer-Pc-Full-HD-1080p-Gaming-1800R-Radius-Built-In-Speakers-HDMI/5707374222?classType=VARIANT&adsRedirect=true\"\n",
    "\n",
    "    headers = {\n",
    "            \"Accept\": \"text/html,application/xhtml+xml,application/xml;q=0.9,*/*;q=0.8\", \n",
    "            \"Accept-Encoding\": \"gzip, deflate, br\", \n",
    "            \"Accept-Language\": \"en-GB,en;q=0.9\",   \n",
    "            \"User-Agent\": \"Mozilla/5.0 (Macintosh; Intel Mac OS X 12_7_6) AppleWebKit/605.1.15 (KHTML, like Gecko) Version/17.6 Safari/605.1.15\" \n",
    "              }\n",
    "\n",
    "    page = requests.get(url, headers = headers)\n",
    "\n",
    "    soup1 = BeautifulSoup(page.content, 'html.parser')\n",
    "\n",
    "    soup2 = BeautifulSoup(soup1.prettify(), \"html.parser\")\n",
    "\n",
    "    title = soup2.find(id = 'main-title').get_text()\n",
    "\n",
    "    price = soup2.find( \"span\", {\"itemprop\": \"price\" , \"data-seo-id\": \"hero-price\"}).get_text()\n",
    "\n",
    "    title = title.strip()\n",
    "    price = price.strip()[5:]\n",
    "\n",
    "    import datetime\n",
    "\n",
    "    today = datetime.date.today()\n",
    "\n",
    "    import csv\n",
    "\n",
    "    header = ['title', 'price', 'Date']\n",
    "    data = [title, price, today]\n",
    "\n",
    "\n",
    "    with open('CodeAlphaTask1.csv', 'a+', newline='', encoding='UTF8') as f:\n",
    "        writer = csv.writer(f)\n",
    "        writer.writerow(data)\n",
    "\n"
   ]
  },
  {
   "cell_type": "code",
   "execution_count": null,
   "id": "e483d8ac-dba7-4f0d-9657-fe328081bded",
   "metadata": {},
   "outputs": [],
   "source": [
    "# Runs check_price after a set time and inputs data into your CSV\n",
    "\n",
    "while(True):\n",
    "    check_price()\n",
    "    time.sleep(172800)"
   ]
  },
  {
   "cell_type": "code",
   "execution_count": null,
   "id": "6fe03c79-8622-4b7f-a0df-5f60647bdddb",
   "metadata": {},
   "outputs": [],
   "source": [
    "import pandas as pd\n",
    "\n",
    "df = pd.read_csv(r'/Users/mac/CodeAlphaTask1.csv')\n",
    "\n",
    "print(df)"
   ]
  },
  {
   "cell_type": "code",
   "execution_count": null,
   "id": "840cecd3-3384-475c-8895-3b49e4c976cf",
   "metadata": {},
   "outputs": [],
   "source": [
    "# If you want to try sending yourself an email when a price hits below a certain level\n",
    "\n",
    "def send_mail():\n",
    "    server = smtplib.SMTP_SSL('smtp.gmail.com',465)\n",
    "    server.ehlo()\n",
    "    #server.starttls()\n",
    "    server.ehlo()\n",
    "    server.login('anthoniobrando@gmail.com','xxxxxxxxxxxxxx')\n",
    "    \n",
    "    subject = \"The monitor you want is below $100! Now is your chance to buy!\"\n",
    "    body = \"Thomas, This is the moment we have been waiting for. Now is your chance to pick up the monitor of your dreams. Don't mess it up! Link here: https://www.walmart.com/ip/Gawfolk-27-Curved-Monitor-100Hz-Computer-Pc-Full-HD-1080p-Gaming-1800R-Radius-Built-In-Speakers-HDMI/5707374222?classType=VARIANT&adsRedirect=true\"\n",
    "   \n",
    "    msg = f\"Subject: {subject}\\n\\n{body}\"\n",
    "    \n",
    "    server.sendmail(\n",
    "        'anthoniobrando@gmail.com',\n",
    "        msg\n",
    "     \n",
    "    )"
   ]
  },
  {
   "cell_type": "code",
   "execution_count": null,
   "id": "3f0a7664-ca23-470c-97ec-1e496d786488",
   "metadata": {},
   "outputs": [],
   "source": []
  },
  {
   "cell_type": "code",
   "execution_count": null,
   "id": "e7b20aa4-2d0e-450c-9b87-4d938412fce3",
   "metadata": {},
   "outputs": [],
   "source": []
  }
 ],
 "metadata": {
  "kernelspec": {
   "display_name": "Python 3 (ipykernel)",
   "language": "python",
   "name": "python3"
  },
  "language_info": {
   "codemirror_mode": {
    "name": "ipython",
    "version": 3
   },
   "file_extension": ".py",
   "mimetype": "text/x-python",
   "name": "python",
   "nbconvert_exporter": "python",
   "pygments_lexer": "ipython3",
   "version": "3.12.7"
  }
 },
 "nbformat": 4,
 "nbformat_minor": 5
}
